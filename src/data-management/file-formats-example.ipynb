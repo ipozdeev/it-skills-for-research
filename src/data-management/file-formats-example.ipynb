{
 "cells": [
  {
   "cell_type": "code",
   "execution_count": 20,
   "metadata": {},
   "outputs": [],
   "source": [
    "import pandas as pd\n",
    "import numpy as np\n",
    "import os\n",
    "from pathlib import Path\n",
    "import time\n",
    "\n",
    "DATAPATH = Path(\"../../temp/data\")"
   ]
  },
  {
   "cell_type": "markdown",
   "metadata": {},
   "source": [
    "# create data"
   ]
  },
  {
   "cell_type": "code",
   "execution_count": 21,
   "metadata": {},
   "outputs": [
    {
     "data": {
      "text/html": [
       "<div>\n",
       "<style scoped>\n",
       "    .dataframe tbody tr th:only-of-type {\n",
       "        vertical-align: middle;\n",
       "    }\n",
       "\n",
       "    .dataframe tbody tr th {\n",
       "        vertical-align: top;\n",
       "    }\n",
       "\n",
       "    .dataframe thead th {\n",
       "        text-align: right;\n",
       "    }\n",
       "</style>\n",
       "<table border=\"1\" class=\"dataframe\">\n",
       "  <thead>\n",
       "    <tr style=\"text-align: right;\">\n",
       "      <th></th>\n",
       "      <th>0</th>\n",
       "      <th>1</th>\n",
       "      <th>2</th>\n",
       "      <th>3</th>\n",
       "      <th>4</th>\n",
       "      <th>5</th>\n",
       "      <th>6</th>\n",
       "      <th>8</th>\n",
       "    </tr>\n",
       "  </thead>\n",
       "  <tbody>\n",
       "    <tr>\n",
       "      <th>0</th>\n",
       "      <td>0.651282</td>\n",
       "      <td>1.251676</td>\n",
       "      <td>1.172480</td>\n",
       "      <td>-0.623277</td>\n",
       "      <td>-0.488529</td>\n",
       "      <td>0.565954</td>\n",
       "      <td>0.521299</td>\n",
       "      <td>0.0001</td>\n",
       "    </tr>\n",
       "    <tr>\n",
       "      <th>1</th>\n",
       "      <td>-0.321270</td>\n",
       "      <td>0.214199</td>\n",
       "      <td>0.668231</td>\n",
       "      <td>1.363346</td>\n",
       "      <td>2.232346</td>\n",
       "      <td>0.258891</td>\n",
       "      <td>0.203580</td>\n",
       "      <td>0.0001</td>\n",
       "    </tr>\n",
       "    <tr>\n",
       "      <th>2</th>\n",
       "      <td>1.136323</td>\n",
       "      <td>-1.017770</td>\n",
       "      <td>-0.271917</td>\n",
       "      <td>-1.328532</td>\n",
       "      <td>0.060997</td>\n",
       "      <td>-1.713914</td>\n",
       "      <td>0.074197</td>\n",
       "      <td>0.0001</td>\n",
       "    </tr>\n",
       "    <tr>\n",
       "      <th>3</th>\n",
       "      <td>0.463319</td>\n",
       "      <td>-0.756274</td>\n",
       "      <td>-0.376660</td>\n",
       "      <td>1.810076</td>\n",
       "      <td>2.368340</td>\n",
       "      <td>-0.612749</td>\n",
       "      <td>0.726914</td>\n",
       "      <td>0.0001</td>\n",
       "    </tr>\n",
       "    <tr>\n",
       "      <th>4</th>\n",
       "      <td>-3.567508</td>\n",
       "      <td>-0.652595</td>\n",
       "      <td>0.272587</td>\n",
       "      <td>0.170276</td>\n",
       "      <td>1.157430</td>\n",
       "      <td>0.531651</td>\n",
       "      <td>-0.025606</td>\n",
       "      <td>0.0001</td>\n",
       "    </tr>\n",
       "  </tbody>\n",
       "</table>\n",
       "</div>"
      ],
      "text/plain": [
       "          0         1         2         3         4         5         6  \\\n",
       "0  0.651282  1.251676  1.172480 -0.623277 -0.488529  0.565954  0.521299   \n",
       "1 -0.321270  0.214199  0.668231  1.363346  2.232346  0.258891  0.203580   \n",
       "2  1.136323 -1.017770 -0.271917 -1.328532  0.060997 -1.713914  0.074197   \n",
       "3  0.463319 -0.756274 -0.376660  1.810076  2.368340 -0.612749  0.726914   \n",
       "4 -3.567508 -0.652595  0.272587  0.170276  1.157430  0.531651 -0.025606   \n",
       "\n",
       "        8  \n",
       "0  0.0001  \n",
       "1  0.0001  \n",
       "2  0.0001  \n",
       "3  0.0001  \n",
       "4  0.0001  "
      ]
     },
     "execution_count": 21,
     "metadata": {},
     "output_type": "execute_result"
    }
   ],
   "source": [
    "# dataframe w/random numbers\n",
    "df = pd.DataFrame(np.random.normal(size=(1050000, 7)),\n",
    "                  dtype=np.float32)\n",
    "df.loc[:, (df.shape[1] + 1)] = 0.0001\n",
    "\n",
    "df.head()"
   ]
  },
  {
   "cell_type": "markdown",
   "metadata": {},
   "source": [
    "# write data"
   ]
  },
  {
   "cell_type": "code",
   "execution_count": 22,
   "metadata": {},
   "outputs": [
    {
     "name": "stdout",
     "output_type": "stream",
     "text": [
      "CPU times: user 16.1 s, sys: 387 ms, total: 16.5 s\n",
      "Wall time: 16.6 s\n"
     ]
    },
    {
     "data": {
      "text/plain": [
       "'file size (Mb): 94.813664'"
      ]
     },
     "execution_count": 22,
     "metadata": {},
     "output_type": "execute_result"
    }
   ],
   "source": [
    "# to csv\n",
    "%time df.to_csv(DATAPATH / \"abc.csv\")\n",
    "f\"file size (Mb): {os.path.getsize(DATAPATH / 'abc.csv') / 1e06}\""
   ]
  },
  {
   "cell_type": "code",
   "execution_count": 23,
   "metadata": {},
   "outputs": [
    {
     "name": "stdout",
     "output_type": "stream",
     "text": [
      "CPU times: user 29.4 s, sys: 234 ms, total: 29.6 s\n",
      "Wall time: 29.7 s\n"
     ]
    },
    {
     "data": {
      "text/plain": [
       "'file size (Mb): 38.257632'"
      ]
     },
     "execution_count": 23,
     "metadata": {},
     "output_type": "execute_result"
    }
   ],
   "source": [
    "# to csv + zip\n",
    "%time df.to_csv(DATAPATH / \"abc.zip\", compression=\"zip\")\n",
    "f\"file size (Mb): {os.path.getsize(DATAPATH / 'abc.zip') / 1e06}\""
   ]
  },
  {
   "cell_type": "code",
   "execution_count": 24,
   "metadata": {},
   "outputs": [
    {
     "name": "stdout",
     "output_type": "stream",
     "text": [
      "CPU times: user 0 ns, sys: 71.7 ms, total: 71.7 ms\n",
      "Wall time: 84.2 ms\n"
     ]
    },
    {
     "data": {
      "text/plain": [
       "'file size (Mb): 37.800796'"
      ]
     },
     "execution_count": 24,
     "metadata": {},
     "output_type": "execute_result"
    }
   ],
   "source": [
    "# to pickle\n",
    "%time df.to_pickle(DATAPATH / \"abc.pkl\")\n",
    "f\"file size (Mb): {os.path.getsize(DATAPATH / 'abc.pkl') / 1e06}\""
   ]
  },
  {
   "cell_type": "code",
   "execution_count": 25,
   "metadata": {},
   "outputs": [
    {
     "name": "stdout",
     "output_type": "stream",
     "text": [
      "CPU times: user 25.1 ms, sys: 35 ms, total: 60.1 ms\n",
      "Wall time: 57.5 ms\n"
     ]
    },
    {
     "data": {
      "text/plain": [
       "'file size (Mb): 46.2106'"
      ]
     },
     "execution_count": 25,
     "metadata": {},
     "output_type": "execute_result"
    }
   ],
   "source": [
    "# to hdf\n",
    "%time df.to_hdf(DATAPATH / \"abc.h5\", key=\"fx/spot\")\n",
    "f\"file size (Mb): {os.path.getsize(DATAPATH / 'abc.h5') / 1e06}\""
   ]
  },
  {
   "cell_type": "code",
   "execution_count": 26,
   "metadata": {},
   "outputs": [
    {
     "name": "stdout",
     "output_type": "stream",
     "text": [
      "CPU times: user 269 ms, sys: 99 ms, total: 368 ms\n",
      "Wall time: 134 ms\n"
     ]
    },
    {
     "data": {
      "text/plain": [
       "'file size (Mb): 29.451914'"
      ]
     },
     "execution_count": 26,
     "metadata": {},
     "output_type": "execute_result"
    }
   ],
   "source": [
    "# to feather\n",
    "%time df.to_feather(DATAPATH / \"abc.arrow\")\n",
    "f\"file size (Mb): {os.path.getsize(DATAPATH / 'abc.arrow') / 1e06}\""
   ]
  },
  {
   "cell_type": "code",
   "execution_count": 27,
   "metadata": {},
   "outputs": [
    {
     "name": "stdout",
     "output_type": "stream",
     "text": [
      "CPU times: user 748 ms, sys: 181 ms, total: 930 ms\n",
      "Wall time: 741 ms\n"
     ]
    },
    {
     "data": {
      "text/plain": [
       "'file size (Mb): 33.789854'"
      ]
     },
     "execution_count": 27,
     "metadata": {},
     "output_type": "execute_result"
    }
   ],
   "source": [
    "# to parquet\n",
    "%time df.to_parquet(DATAPATH / \"abc.parquet\")\n",
    "f\"file size (Mb): {os.path.getsize(DATAPATH / 'abc.parquet') / 1e06}\""
   ]
  },
  {
   "cell_type": "code",
   "execution_count": 28,
   "metadata": {},
   "outputs": [
    {
     "name": "stdout",
     "output_type": "stream",
     "text": [
      "CPU times: user 4.03 s, sys: 214 ms, total: 4.25 s\n",
      "Wall time: 4.05 s\n"
     ]
    },
    {
     "data": {
      "text/plain": [
       "'file size (Mb): 31.415451'"
      ]
     },
     "execution_count": 28,
     "metadata": {},
     "output_type": "execute_result"
    }
   ],
   "source": [
    "# to parquet\n",
    "%time df.to_parquet(DATAPATH / \"abc.zparquet\", compression='gzip')\n",
    "f\"file size (Mb): {os.path.getsize(DATAPATH / 'abc.zparquet') / 1e06}\""
   ]
  },
  {
   "cell_type": "markdown",
   "metadata": {},
   "source": [
    "# read data"
   ]
  },
  {
   "cell_type": "code",
   "execution_count": 29,
   "metadata": {},
   "outputs": [
    {
     "data": {
      "text/html": [
       "<style type=\"text/css\">\n",
       "</style>\n",
       "<table id=\"T_03a3e\">\n",
       "  <thead>\n",
       "    <tr>\n",
       "      <th class=\"blank level0\" >&nbsp;</th>\n",
       "      <th id=\"T_03a3e_level0_col0\" class=\"col_heading level0 col0\" >dt (seconds)</th>\n",
       "    </tr>\n",
       "  </thead>\n",
       "  <tbody>\n",
       "    <tr>\n",
       "      <th id=\"T_03a3e_level0_row0\" class=\"row_heading level0 row0\" >pkl</th>\n",
       "      <td id=\"T_03a3e_row0_col0\" class=\"data row0 col0\" >0.0454</td>\n",
       "    </tr>\n",
       "    <tr>\n",
       "      <th id=\"T_03a3e_level0_row1\" class=\"row_heading level0 row1\" >arrow</th>\n",
       "      <td id=\"T_03a3e_row1_col0\" class=\"data row1 col0\" >0.1048</td>\n",
       "    </tr>\n",
       "    <tr>\n",
       "      <th id=\"T_03a3e_level0_row2\" class=\"row_heading level0 row2\" >parquet</th>\n",
       "      <td id=\"T_03a3e_row2_col0\" class=\"data row2 col0\" >0.1408</td>\n",
       "    </tr>\n",
       "    <tr>\n",
       "      <th id=\"T_03a3e_level0_row3\" class=\"row_heading level0 row3\" >zparquet</th>\n",
       "      <td id=\"T_03a3e_row3_col0\" class=\"data row3 col0\" >0.1888</td>\n",
       "    </tr>\n",
       "    <tr>\n",
       "      <th id=\"T_03a3e_level0_row4\" class=\"row_heading level0 row4\" >h5</th>\n",
       "      <td id=\"T_03a3e_row4_col0\" class=\"data row4 col0\" >0.2094</td>\n",
       "    </tr>\n",
       "    <tr>\n",
       "      <th id=\"T_03a3e_level0_row5\" class=\"row_heading level0 row5\" >csv</th>\n",
       "      <td id=\"T_03a3e_row5_col0\" class=\"data row5 col0\" >2.1112</td>\n",
       "    </tr>\n",
       "    <tr>\n",
       "      <th id=\"T_03a3e_level0_row6\" class=\"row_heading level0 row6\" >zip</th>\n",
       "      <td id=\"T_03a3e_row6_col0\" class=\"data row6 col0\" >3.5975</td>\n",
       "    </tr>\n",
       "  </tbody>\n",
       "</table>\n"
      ],
      "text/plain": [
       "<pandas.io.formats.style.Styler at 0x775379f845e0>"
      ]
     },
     "execution_count": 29,
     "metadata": {},
     "output_type": "execute_result"
    }
   ],
   "source": [
    "readers = {\n",
    "    \"csv\": pd.read_csv,\n",
    "    \"zip\": lambda _x: pd.read_csv(_x, compression=\"zip\"),\n",
    "    \"pkl\": pd.read_pickle,\n",
    "    \"h5\": pd.read_hdf,\n",
    "    \"arrow\": pd.read_feather,\n",
    "    \"parquet\": pd.read_parquet,\n",
    "    \"zparquet\": lambda _x: pd.read_parquet(_x)\n",
    "}\n",
    "\n",
    "read_times = {}\n",
    "for _f in os.listdir(DATAPATH):\n",
    "    extension = _f.split(\".\")[-1]\n",
    "    _reader = readers[extension]\n",
    "    _st = time.time()\n",
    "    _ = _reader(DATAPATH / _f)\n",
    "    _et = time.time()\n",
    "    read_times[extension] = _et - _st\n",
    "\n",
    "pd.Series(read_times)\\\n",
    "    .sort_values()\\\n",
    "    .to_frame(\"dt (seconds)\").style.format(precision=4)"
   ]
  },
  {
   "cell_type": "markdown",
   "metadata": {},
   "source": [
    "# size reduction"
   ]
  },
  {
   "cell_type": "code",
   "execution_count": 30,
   "metadata": {},
   "outputs": [
    {
     "name": "stdout",
     "output_type": "stream",
     "text": [
      "CPU times: user 20.3 s, sys: 606 ms, total: 20.9 s\n",
      "Wall time: 21.3 s\n"
     ]
    },
    {
     "data": {
      "text/plain": [
       "'file size (Mb): 83.591071'"
      ]
     },
     "execution_count": 30,
     "metadata": {},
     "output_type": "execute_result"
    }
   ],
   "source": [
    "# round\n",
    "%time df.round(6).to_csv(DATAPATH / \"abc-rounded.csv\")\n",
    "f\"file size (Mb): {os.path.getsize(DATAPATH / 'abc-rounded.csv') / 1e06}\""
   ]
  },
  {
   "cell_type": "code",
   "execution_count": 31,
   "metadata": {},
   "outputs": [
    {
     "name": "stdout",
     "output_type": "stream",
     "text": [
      "CPU times: user 16.1 s, sys: 384 ms, total: 16.5 s\n",
      "Wall time: 16.5 s\n"
     ]
    },
    {
     "data": {
      "text/plain": [
       "'file size (Mb): 77.524794'"
      ]
     },
     "execution_count": 31,
     "metadata": {},
     "output_type": "execute_result"
    }
   ],
   "source": [
    "# multiply by 10\n",
    "%time df.mul(10).round(5).to_csv(DATAPATH / \"abc-rounded.csv\")\n",
    "f\"file size (Mb): {os.path.getsize(DATAPATH / 'abc-rounded.csv') / 1e06}\""
   ]
  },
  {
   "cell_type": "code",
   "execution_count": 32,
   "metadata": {},
   "outputs": [
    {
     "name": "stdout",
     "output_type": "stream",
     "text": [
      "          0         1         2         3         4         5         6  \\\n",
      "0  0.651282  1.251676  1.172480 -0.623277 -0.488529  0.565954  0.521299   \n",
      "1 -0.321270  0.214199  0.668231  1.363346  2.232346  0.258891  0.203580   \n",
      "2  1.136323 -1.017770 -0.271917 -1.328532  0.060997 -1.713914  0.074197   \n",
      "3  0.463319 -0.756274 -0.376660  1.810076  2.368340 -0.612749  0.726914   \n",
      "4 -3.567508 -0.652595  0.272587  0.170276  1.157430  0.531651 -0.025606   \n",
      "\n",
      "        8  \n",
      "0  0.0001  \n",
      "1  0.0001  \n",
      "2  0.0001  \n",
      "3  0.0001  \n",
      "4  0.0001  \n",
      "          0         1         2         3         4         5         6  \\\n",
      "0  0.651282  1.251676  1.172480 -0.623277 -0.488529  0.565954  0.521299   \n",
      "1 -0.321270  0.214199  0.668231  1.363346  2.232346  0.258891  0.203580   \n",
      "2  1.136323 -1.017770 -0.271917 -1.328532  0.060997 -1.713914  0.074197   \n",
      "3  0.463319 -0.756274 -0.376660  1.810076  2.368340 -0.612749  0.726914   \n",
      "4 -3.567508 -0.652595  0.272587  0.170276  1.157430  0.531651 -0.025606   \n",
      "\n",
      "        8  \n",
      "0  0.0001  \n",
      "1  0.0001  \n",
      "2  0.0001  \n",
      "3  0.0001  \n",
      "4  0.0001  \n"
     ]
    }
   ],
   "source": [
    "print(df.round(6).head())\n",
    "print(df.mul(10).round(5).div(10).head())"
   ]
  }
 ],
 "metadata": {
  "kernelspec": {
   "display_name": ".venv",
   "language": "python",
   "name": "python3"
  },
  "language_info": {
   "codemirror_mode": {
    "name": "ipython",
    "version": 3
   },
   "file_extension": ".py",
   "mimetype": "text/x-python",
   "name": "python",
   "nbconvert_exporter": "python",
   "pygments_lexer": "ipython3",
   "version": "3.10.12"
  }
 },
 "nbformat": 4,
 "nbformat_minor": 2
}
