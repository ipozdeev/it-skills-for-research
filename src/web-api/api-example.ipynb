{
 "cells": [
  {
   "cell_type": "code",
   "execution_count": null,
   "metadata": {},
   "outputs": [],
   "source": [
    "import requests\n",
    "import datetime\n",
    "import json\n",
    "import pandas as pd"
   ]
  },
  {
   "cell_type": "code",
   "execution_count": 2,
   "metadata": {},
   "outputs": [],
   "source": [
    "ROOT_URL = \"https://api.kraken.com/0/public\""
   ]
  },
  {
   "cell_type": "code",
   "execution_count": 8,
   "metadata": {},
   "outputs": [
    {
     "name": "stdout",
     "output_type": "stream",
     "text": [
      "https://api.kraken.com/0/public/Trades?pair=BCHUSD&since=1698000000\n"
     ]
    }
   ],
   "source": [
    "# construct request URL\n",
    "req = \"{root_url}/{endpoint}?pair={pair}USD&since={since}\" \\\n",
    "     .format(root_url=\"https://api.kraken.com/0/public\",\n",
    "             endpoint=\"Trades\",\n",
    "             pair=\"BCH\",\n",
    "             since=1698000000)\n",
    "print(req)"
   ]
  },
  {
   "cell_type": "code",
   "execution_count": 9,
   "metadata": {},
   "outputs": [
    {
     "name": "stdout",
     "output_type": "stream",
     "text": [
      "<Response [200]>\n"
     ]
    }
   ],
   "source": [
    "# send request to the Kraken server & receive a response\n",
    "resp = requests.get(req)\n",
    "print(resp)"
   ]
  },
  {
   "cell_type": "code",
   "execution_count": 11,
   "metadata": {},
   "outputs": [
    {
     "name": "stdout",
     "output_type": "stream",
     "text": [
      "                                 price      volume buy_sell market_limit   \n",
      "time                                                                       \n",
      "2023-10-22 20:41:00.954086  240.940000  0.15241970        b            m  \\\n",
      "2023-10-22 20:41:27.045226  240.910000  0.10400000        s            l   \n",
      "2023-10-22 20:43:54.898559  240.820000  0.05014805        b            l   \n",
      "2023-10-22 20:45:01.771025  240.840000  0.08301855        b            m   \n",
      "2023-10-22 20:47:00.258524  240.410000  0.61250000        s            m   \n",
      "...                                ...         ...      ...          ...   \n",
      "2023-10-23 06:54:39.721124  249.240000  0.21500000        b            l   \n",
      "2023-10-23 06:55:22.810019  249.090000  0.10910000        s            m   \n",
      "2023-10-23 06:58:11.642452  249.590000  0.19003697        b            l   \n",
      "2023-10-23 06:58:11.642521  249.590000  0.06772836        b            l   \n",
      "2023-10-23 06:59:06.052107  249.500000  0.01000000        s            m   \n",
      "\n",
      "                           miscellaneous  trade_id  \n",
      "time                                                \n",
      "2023-10-22 20:41:00.954086                 7611288  \n",
      "2023-10-22 20:41:27.045226                 7611289  \n",
      "2023-10-22 20:43:54.898559                 7611290  \n",
      "2023-10-22 20:45:01.771025                 7611291  \n",
      "2023-10-22 20:47:00.258524                 7611292  \n",
      "...                                  ...       ...  \n",
      "2023-10-23 06:54:39.721124                 7612283  \n",
      "2023-10-23 06:55:22.810019                 7612284  \n",
      "2023-10-23 06:58:11.642452                 7612285  \n",
      "2023-10-23 06:58:11.642521                 7612286  \n",
      "2023-10-23 06:59:06.052107                 7612287  \n",
      "\n",
      "[1000 rows x 6 columns]\n"
     ]
    }
   ],
   "source": [
    "# convert to DataFrame\n",
    "data = pd.DataFrame.from_records(\n",
    "    resp.json()[\"result\"][\"BCHUSD\"],\n",
    "    columns=[\"price\", \"volume\", \"time\", \"buy_sell\", \"market_limit\", \"miscellaneous\", \"trade_id\"]\n",
    ")\n",
    "data.index = data.pop(\"time\").map(datetime.datetime.fromtimestamp)\n",
    "print(data)"
   ]
  },
  {
   "cell_type": "code",
   "execution_count": null,
   "metadata": {},
   "outputs": [],
   "source": []
  }
 ],
 "metadata": {
  "kernelspec": {
   "display_name": "latest",
   "language": "python",
   "name": "python3"
  },
  "language_info": {
   "codemirror_mode": {
    "name": "ipython",
    "version": 3
   },
   "file_extension": ".py",
   "mimetype": "text/x-python",
   "name": "python",
   "nbconvert_exporter": "python",
   "pygments_lexer": "ipython3",
   "version": "3.11.3"
  }
 },
 "nbformat": 4,
 "nbformat_minor": 4
}
