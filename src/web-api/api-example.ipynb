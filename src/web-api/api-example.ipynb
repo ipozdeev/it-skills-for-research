{
 "cells": [
  {
   "cell_type": "code",
   "execution_count": 1,
   "metadata": {},
   "outputs": [],
   "source": [
    "import requests\n",
    "import datetime\n",
    "import json\n",
    "import pandas as pd"
   ]
  },
  {
   "cell_type": "code",
   "execution_count": 2,
   "metadata": {},
   "outputs": [],
   "source": [
    "ROOT_URL = \"https://api.kraken.com/0/public\""
   ]
  },
  {
   "cell_type": "code",
   "execution_count": 3,
   "metadata": {},
   "outputs": [
    {
     "name": "stdout",
     "output_type": "stream",
     "text": [
      "https://api.kraken.com/0/public/Trades?pair=BCHUSD&since=1579961700\n"
     ]
    }
   ],
   "source": [
    "# construct request URL\n",
    "req = \"{root_url}/{endpoint}?pair={pair}USD&since={since}\" \\\n",
    "     .format(root_url=\"https://api.kraken.com/0/public\",\n",
    "             endpoint=\"Trades\",\n",
    "             pair=\"BCH\",\n",
    "             since=1579961700)\n",
    "print(req)"
   ]
  },
  {
   "cell_type": "code",
   "execution_count": 8,
   "metadata": {},
   "outputs": [
    {
     "name": "stdout",
     "output_type": "stream",
     "text": [
      "<Response [200]>\n"
     ]
    }
   ],
   "source": [
    "# send request to the Kraken server & receive a response\n",
    "resp = requests.get(req)\n",
    "print(resp)"
   ]
  },
  {
   "cell_type": "code",
   "execution_count": 11,
   "metadata": {},
   "outputs": [
    {
     "name": "stdout",
     "output_type": "stream",
     "text": [
      "                                 price       volume buy_sell market_limit  \\\n",
      "time                                                                        \n",
      "2020-01-25 15:24:38.505300  310.200000   1.86414155        s            m   \n",
      "2020-01-25 15:24:38.520800  310.200000   0.00483420        s            m   \n",
      "2020-01-25 15:24:38.522200  310.200000   0.00001254        s            m   \n",
      "2020-01-25 15:24:38.523600  310.200000   0.00000002        s            m   \n",
      "2020-01-25 15:28:35.997600  310.100000   4.00000000        b            l   \n",
      "...                                ...          ...      ...          ...   \n",
      "2020-01-26 03:31:53.785300  309.500000   8.31209454        b            l   \n",
      "2020-01-26 03:31:54.192400  309.500000  15.90495422        b            l   \n",
      "2020-01-26 03:32:14.611300  309.500000   8.23838124        b            l   \n",
      "2020-01-26 03:32:14.637700  309.500000   1.00000000        b            l   \n",
      "2020-01-26 03:32:14.639900  309.500000   1.00000000        b            l   \n",
      "\n",
      "                           miscellaneous  \n",
      "time                                      \n",
      "2020-01-25 15:24:38.505300                \n",
      "2020-01-25 15:24:38.520800                \n",
      "2020-01-25 15:24:38.522200                \n",
      "2020-01-25 15:24:38.523600                \n",
      "2020-01-25 15:28:35.997600                \n",
      "...                                  ...  \n",
      "2020-01-26 03:31:53.785300                \n",
      "2020-01-26 03:31:54.192400                \n",
      "2020-01-26 03:32:14.611300                \n",
      "2020-01-26 03:32:14.637700                \n",
      "2020-01-26 03:32:14.639900                \n",
      "\n",
      "[1000 rows x 5 columns]\n"
     ]
    }
   ],
   "source": [
    "# convert to DataFrame\n",
    "data = pd.DataFrame.from_records(\n",
    "    resp.json()[\"result\"][\"BCHUSD\"],\n",
    "    columns=[\"price\", \"volume\", \"time\", \"buy_sell\", \"market_limit\", \"miscellaneous\"]\n",
    ")\n",
    "data.index = data.pop(\"time\").map(datetime.datetime.fromtimestamp)\n",
    "print(data)"
   ]
  },
  {
   "cell_type": "code",
   "execution_count": null,
   "metadata": {},
   "outputs": [],
   "source": []
  }
 ],
 "metadata": {
  "kernelspec": {
   "display_name": "Julia 1.7.2",
   "language": "julia",
   "name": "julia-1.7"
  },
  "language_info": {
   "file_extension": ".jl",
   "mimetype": "application/julia",
   "name": "julia",
   "version": "1.7.2"
  }
 },
 "nbformat": 4,
 "nbformat_minor": 4
}
